{
 "cells": [
  {
   "cell_type": "markdown",
   "id": "5702cbbd",
   "metadata": {},
   "source": [
    "# Mobile Price Prediction"
   ]
  },
  {
   "cell_type": "code",
   "execution_count": 294,
   "id": "009145b1",
   "metadata": {},
   "outputs": [],
   "source": [
    "import pandas as pd\n",
    "import numpy as np\n",
    "from scipy import stats\n",
    "import matplotlib.pyplot as plt\n",
    "import seaborn as sns\n"
   ]
  },
  {
   "cell_type": "code",
   "execution_count": 295,
   "id": "1e80864f",
   "metadata": {},
   "outputs": [],
   "source": [
    "df = pd.read_csv(r\"C:\\Users\\krsha\\Downloads\\Mobiles Dataset (2025).csv\")"
   ]
  },
  {
   "cell_type": "code",
   "execution_count": 296,
   "id": "932aaf70",
   "metadata": {},
   "outputs": [
    {
     "data": {
      "text/html": [
       "<div>\n",
       "<style scoped>\n",
       "    .dataframe tbody tr th:only-of-type {\n",
       "        vertical-align: middle;\n",
       "    }\n",
       "\n",
       "    .dataframe tbody tr th {\n",
       "        vertical-align: top;\n",
       "    }\n",
       "\n",
       "    .dataframe thead th {\n",
       "        text-align: right;\n",
       "    }\n",
       "</style>\n",
       "<table border=\"1\" class=\"dataframe\">\n",
       "  <thead>\n",
       "    <tr style=\"text-align: right;\">\n",
       "      <th></th>\n",
       "      <th>Company Name</th>\n",
       "      <th>Model Name</th>\n",
       "      <th>Mobile Weight</th>\n",
       "      <th>RAM</th>\n",
       "      <th>Front Camera</th>\n",
       "      <th>Back Camera</th>\n",
       "      <th>Processor</th>\n",
       "      <th>Battery Capacity</th>\n",
       "      <th>Screen Size</th>\n",
       "      <th>Launched Price (Pakistan)</th>\n",
       "      <th>Launched Price (India)</th>\n",
       "      <th>Launched Price (China)</th>\n",
       "      <th>Launched Price (USA)</th>\n",
       "      <th>Launched Price (Dubai)</th>\n",
       "      <th>Launched Year</th>\n",
       "    </tr>\n",
       "  </thead>\n",
       "  <tbody>\n",
       "    <tr>\n",
       "      <th>0</th>\n",
       "      <td>Apple</td>\n",
       "      <td>iPhone 16 128GB</td>\n",
       "      <td>174g</td>\n",
       "      <td>6GB</td>\n",
       "      <td>12MP</td>\n",
       "      <td>48MP</td>\n",
       "      <td>A17 Bionic</td>\n",
       "      <td>3,600mAh</td>\n",
       "      <td>6.1 inches</td>\n",
       "      <td>PKR 224,999</td>\n",
       "      <td>INR 79,999</td>\n",
       "      <td>CNY 5,799</td>\n",
       "      <td>USD 799</td>\n",
       "      <td>AED 2,799</td>\n",
       "      <td>2024</td>\n",
       "    </tr>\n",
       "    <tr>\n",
       "      <th>1</th>\n",
       "      <td>Apple</td>\n",
       "      <td>iPhone 16 256GB</td>\n",
       "      <td>174g</td>\n",
       "      <td>6GB</td>\n",
       "      <td>12MP</td>\n",
       "      <td>48MP</td>\n",
       "      <td>A17 Bionic</td>\n",
       "      <td>3,600mAh</td>\n",
       "      <td>6.1 inches</td>\n",
       "      <td>PKR 234,999</td>\n",
       "      <td>INR 84,999</td>\n",
       "      <td>CNY 6,099</td>\n",
       "      <td>USD 849</td>\n",
       "      <td>AED 2,999</td>\n",
       "      <td>2024</td>\n",
       "    </tr>\n",
       "    <tr>\n",
       "      <th>2</th>\n",
       "      <td>Apple</td>\n",
       "      <td>iPhone 16 512GB</td>\n",
       "      <td>174g</td>\n",
       "      <td>6GB</td>\n",
       "      <td>12MP</td>\n",
       "      <td>48MP</td>\n",
       "      <td>A17 Bionic</td>\n",
       "      <td>3,600mAh</td>\n",
       "      <td>6.1 inches</td>\n",
       "      <td>PKR 244,999</td>\n",
       "      <td>INR 89,999</td>\n",
       "      <td>CNY 6,499</td>\n",
       "      <td>USD 899</td>\n",
       "      <td>AED 3,199</td>\n",
       "      <td>2024</td>\n",
       "    </tr>\n",
       "    <tr>\n",
       "      <th>3</th>\n",
       "      <td>Apple</td>\n",
       "      <td>iPhone 16 Plus 128GB</td>\n",
       "      <td>203g</td>\n",
       "      <td>6GB</td>\n",
       "      <td>12MP</td>\n",
       "      <td>48MP</td>\n",
       "      <td>A17 Bionic</td>\n",
       "      <td>4,200mAh</td>\n",
       "      <td>6.7 inches</td>\n",
       "      <td>PKR 249,999</td>\n",
       "      <td>INR 89,999</td>\n",
       "      <td>CNY 6,199</td>\n",
       "      <td>USD 899</td>\n",
       "      <td>AED 3,199</td>\n",
       "      <td>2024</td>\n",
       "    </tr>\n",
       "    <tr>\n",
       "      <th>4</th>\n",
       "      <td>Apple</td>\n",
       "      <td>iPhone 16 Plus 256GB</td>\n",
       "      <td>203g</td>\n",
       "      <td>6GB</td>\n",
       "      <td>12MP</td>\n",
       "      <td>48MP</td>\n",
       "      <td>A17 Bionic</td>\n",
       "      <td>4,200mAh</td>\n",
       "      <td>6.7 inches</td>\n",
       "      <td>PKR 259,999</td>\n",
       "      <td>INR 94,999</td>\n",
       "      <td>CNY 6,499</td>\n",
       "      <td>USD 949</td>\n",
       "      <td>AED 3,399</td>\n",
       "      <td>2024</td>\n",
       "    </tr>\n",
       "  </tbody>\n",
       "</table>\n",
       "</div>"
      ],
      "text/plain": [
       "  Company Name            Model Name Mobile Weight  RAM Front Camera  \\\n",
       "0        Apple       iPhone 16 128GB          174g  6GB         12MP   \n",
       "1        Apple       iPhone 16 256GB          174g  6GB         12MP   \n",
       "2        Apple       iPhone 16 512GB          174g  6GB         12MP   \n",
       "3        Apple  iPhone 16 Plus 128GB          203g  6GB         12MP   \n",
       "4        Apple  iPhone 16 Plus 256GB          203g  6GB         12MP   \n",
       "\n",
       "  Back Camera   Processor Battery Capacity Screen Size  \\\n",
       "0        48MP  A17 Bionic         3,600mAh  6.1 inches   \n",
       "1        48MP  A17 Bionic         3,600mAh  6.1 inches   \n",
       "2        48MP  A17 Bionic         3,600mAh  6.1 inches   \n",
       "3        48MP  A17 Bionic         4,200mAh  6.7 inches   \n",
       "4        48MP  A17 Bionic         4,200mAh  6.7 inches   \n",
       "\n",
       "  Launched Price (Pakistan) Launched Price (India) Launched Price (China)  \\\n",
       "0               PKR 224,999             INR 79,999              CNY 5,799   \n",
       "1               PKR 234,999             INR 84,999              CNY 6,099   \n",
       "2               PKR 244,999             INR 89,999              CNY 6,499   \n",
       "3               PKR 249,999             INR 89,999              CNY 6,199   \n",
       "4               PKR 259,999             INR 94,999              CNY 6,499   \n",
       "\n",
       "  Launched Price (USA) Launched Price (Dubai)  Launched Year  \n",
       "0              USD 799              AED 2,799           2024  \n",
       "1              USD 849              AED 2,999           2024  \n",
       "2              USD 899              AED 3,199           2024  \n",
       "3              USD 899              AED 3,199           2024  \n",
       "4              USD 949              AED 3,399           2024  "
      ]
     },
     "execution_count": 296,
     "metadata": {},
     "output_type": "execute_result"
    }
   ],
   "source": [
    "df.head()"
   ]
  },
  {
   "cell_type": "code",
   "execution_count": 297,
   "id": "62c3d8ea",
   "metadata": {},
   "outputs": [
    {
     "name": "stdout",
     "output_type": "stream",
     "text": [
      "<class 'pandas.core.frame.DataFrame'>\n",
      "RangeIndex: 930 entries, 0 to 929\n",
      "Data columns (total 15 columns):\n",
      " #   Column                     Non-Null Count  Dtype \n",
      "---  ------                     --------------  ----- \n",
      " 0   Company Name               930 non-null    object\n",
      " 1   Model Name                 930 non-null    object\n",
      " 2   Mobile Weight              930 non-null    object\n",
      " 3   RAM                        930 non-null    object\n",
      " 4   Front Camera               930 non-null    object\n",
      " 5   Back Camera                930 non-null    object\n",
      " 6   Processor                  930 non-null    object\n",
      " 7   Battery Capacity           930 non-null    object\n",
      " 8   Screen Size                930 non-null    object\n",
      " 9   Launched Price (Pakistan)  930 non-null    object\n",
      " 10  Launched Price (India)     930 non-null    object\n",
      " 11  Launched Price (China)     930 non-null    object\n",
      " 12  Launched Price (USA)       930 non-null    object\n",
      " 13  Launched Price (Dubai)     930 non-null    object\n",
      " 14  Launched Year              930 non-null    int64 \n",
      "dtypes: int64(1), object(14)\n",
      "memory usage: 109.1+ KB\n"
     ]
    }
   ],
   "source": [
    "df.info()"
   ]
  },
  {
   "cell_type": "markdown",
   "id": "58665804",
   "metadata": {},
   "source": [
    "- Need to convert Mobile weight, RAM, Front and Back camera , screen size, battery capacity, to  float\n",
    "- \n"
   ]
  },
  {
   "cell_type": "code",
   "execution_count": 298,
   "id": "d8bcee80",
   "metadata": {},
   "outputs": [
    {
     "data": {
      "text/plain": [
       "0    174\n",
       "1    174\n",
       "2    174\n",
       "3    203\n",
       "4    203\n",
       "Name: Mobile Weight, dtype: object"
      ]
     },
     "execution_count": 298,
     "metadata": {},
     "output_type": "execute_result"
    }
   ],
   "source": [
    "df['Mobile Weight'] =df['Mobile Weight'].str.replace('g',\"\",)\n",
    "df['Mobile Weight'].head()"
   ]
  },
  {
   "cell_type": "code",
   "execution_count": 299,
   "id": "bd62698c",
   "metadata": {},
   "outputs": [
    {
     "name": "stdout",
     "output_type": "stream",
     "text": [
      "<class 'pandas.core.series.Series'>\n",
      "RangeIndex: 930 entries, 0 to 929\n",
      "Series name: Mobile Weight\n",
      "Non-Null Count  Dtype  \n",
      "--------------  -----  \n",
      "930 non-null    float64\n",
      "dtypes: float64(1)\n",
      "memory usage: 7.4 KB\n"
     ]
    }
   ],
   "source": [
    "df['Mobile Weight'] =df['Mobile Weight'].astype('float64')\n",
    "df['Mobile Weight'].info()"
   ]
  },
  {
   "cell_type": "code",
   "execution_count": 300,
   "id": "434cd5f2",
   "metadata": {},
   "outputs": [
    {
     "data": {
      "text/plain": [
       "RAM\n",
       "8         308\n",
       "6         206\n",
       "12        193\n",
       "4         146\n",
       "3          34\n",
       "16         31\n",
       "2           6\n",
       "1.5         2\n",
       "8 / 12      2\n",
       "10          1\n",
       "1           1\n",
       "Name: count, dtype: int64"
      ]
     },
     "execution_count": 300,
     "metadata": {},
     "output_type": "execute_result"
    }
   ],
   "source": [
    "df['RAM'] = df['RAM'].str.replace('GB','')\n",
    "df['RAM'].value_counts()"
   ]
  },
  {
   "cell_type": "code",
   "execution_count": 301,
   "id": "e1aff092",
   "metadata": {},
   "outputs": [],
   "source": [
    "df['RAM'] = df['RAM'].replace('8 / 12','8').astype('float64')"
   ]
  },
  {
   "cell_type": "code",
   "execution_count": 302,
   "id": "068181c4",
   "metadata": {},
   "outputs": [
    {
     "data": {
      "text/plain": [
       "array(['6.1 inches', '6.7 inches', '5.4 inches', '5.8 inches',\n",
       "       '6.5 inches', '10.9 inches', '10.2 inches', '7.9 inches',\n",
       "       '11 inches', '12.9 inches', '13 inches', '6.8 inches',\n",
       "       '6.6 inches', '7.6 inches', '6.4 inches', '6.9 inches',\n",
       "       '6.3 inches', '5.3 inches', '6.0 inches', '5.5 inches',\n",
       "       '5.7 inches', '5.2 inches', '14.6 inches', '12.4 inches',\n",
       "       '8.7 inches', '10.5 inches', '8 inches', '10.1 inches',\n",
       "       '6.74 inches', '6.72 inches', '7.8 inches', '6.55 inches',\n",
       "       '6.43 inches', '6.49 inches', '6.52 inches', '6.78 inches',\n",
       "       '6.59 inches', '6.44 inches', '6.41 inches', '6.01 inches',\n",
       "       '6.67 inches', '6.28 inches', '11.61 inches', '6.31 inches',\n",
       "       '6.58 inches', '6.38 inches', '6.56 inches', '5.88 inches',\n",
       "       '6.22 inches', '5.0 inches', '6.51 inches', '6.35 inches',\n",
       "       '6.53 inches', '6.39 inches', '6.47 inches', '10.4 inches',\n",
       "       '12.3 inches', '7.82 inches', '6.83 inches', '11.6 inches',\n",
       "       '12.1 inches', '6.82 inches', '7.1 inches', '11.5 inches',\n",
       "       '6.73 inches', '6.36 inches', '6.09 inches',\n",
       "       '6.7 inches (main), 2.7 inches (external)',\n",
       "       '6.9 inches (internal), 4.0 inches (external)',\n",
       "       '6.7 inches (internal), 3.6 inches (external)',\n",
       "       '6.9 inches (unfolded)', '8.0 inches (unfolded)', '6.57 inches',\n",
       "       '7.8 inches (unfolded)', '7.85 inches (unfolded)', '7.93 inches',\n",
       "       '7.92 inches', '12.2 inches', '13.2 inches', '5.6 inches',\n",
       "       '6.2 inches', '6.34 inches', '6.71 inches', '7.85 inches',\n",
       "       '9.7 inches', '11.0 inches', '6.95 inches', '6.85 inches',\n",
       "       '6.63 inches', '7.09 inches', '6.81 inches', '6.76 inches',\n",
       "       '12.0 inches', '12.6 inches', '13.0 inches', '13.5 inches',\n",
       "       '6.79 inches'], dtype=object)"
      ]
     },
     "execution_count": 302,
     "metadata": {},
     "output_type": "execute_result"
    }
   ],
   "source": [
    "df['Screen Size'].unique()"
   ]
  },
  {
   "cell_type": "code",
   "execution_count": 303,
   "id": "03e447e1",
   "metadata": {},
   "outputs": [],
   "source": [
    "df['Screen Size'] =df['Screen Size'].str.replace('inches','')\n",
    "df['Screen Size'] =df['Screen Size'].str.replace('(main)','')\n",
    "df['Screen Size'] =df['Screen Size'].str.replace('(external)','')\n",
    "df['Screen Size'] =df['Screen Size'].str.replace('(internal)','')\n",
    "df['Screen Size'] =df['Screen Size'].str.replace('(unfolded)','')\n",
    "df['Screen Size']=df['Screen Size'].str.split(',').apply(lambda x: max([float(i) for i in x]))"
   ]
  },
  {
   "cell_type": "code",
   "execution_count": 304,
   "id": "d116f44b",
   "metadata": {},
   "outputs": [
    {
     "data": {
      "text/plain": [
       "0       6.1\n",
       "1       6.1\n",
       "2       6.1\n",
       "3       6.7\n",
       "4       6.7\n",
       "       ... \n",
       "925    12.1\n",
       "926    12.1\n",
       "927     7.6\n",
       "928     7.6\n",
       "929     7.6\n",
       "Name: Screen Size, Length: 930, dtype: float64"
      ]
     },
     "execution_count": 304,
     "metadata": {},
     "output_type": "execute_result"
    }
   ],
   "source": [
    "df['Screen Size'].astype('float64')"
   ]
  },
  {
   "cell_type": "code",
   "execution_count": 305,
   "id": "aedea587",
   "metadata": {},
   "outputs": [
    {
     "data": {
      "text/plain": [
       "array(['12MP', '12MP / 4K', '7MP', '10MP', '32MP', '13MP', '5MP', '16MP',\n",
       "       '8MP', '12MP + 12MP', '2MP', '44MP', '24MP', '20MP+8MP', '20MP',\n",
       "       '50MP', '25MP', '60MP', '10.7MP', 'Dual 32MP', 'Dual 60MP',\n",
       "       '60MP (ultrawide) + 8MP (telephoto)', '60MP + 8MP', '11.1MP',\n",
       "       '10.8MP', '10.5MP', '48MP', '42MP', '10MP, 4MP (UDC)'],\n",
       "      dtype=object)"
      ]
     },
     "execution_count": 305,
     "metadata": {},
     "output_type": "execute_result"
    }
   ],
   "source": [
    "df['Front Camera'].unique()"
   ]
  },
  {
   "cell_type": "code",
   "execution_count": 306,
   "id": "7b4edcd3",
   "metadata": {},
   "outputs": [],
   "source": [
    "import re\n",
    "pattern = r'(\\d)'"
   ]
  },
  {
   "cell_type": "code",
   "execution_count": 307,
   "id": "91549eb9",
   "metadata": {},
   "outputs": [],
   "source": [
    " df['Front Camera'] = df['Front Camera'].str.extract(pattern)\n",
    " df['Back Camera'] = df['Back Camera'].str.extract(pattern)\n"
   ]
  },
  {
   "cell_type": "code",
   "execution_count": 308,
   "id": "d6b64603",
   "metadata": {},
   "outputs": [],
   "source": [
    "df['Front Camera'].value_counts()\n",
    "df['Front Camera']=df['Front Camera'].astype('int32')\n",
    "df['Back Camera']= df['Back Camera'].astype('int32')"
   ]
  },
  {
   "cell_type": "code",
   "execution_count": 309,
   "id": "40c9ee02",
   "metadata": {},
   "outputs": [
    {
     "data": {
      "text/plain": [
       "0      4\n",
       "1      4\n",
       "2      4\n",
       "3      4\n",
       "4      4\n",
       "      ..\n",
       "925    8\n",
       "926    8\n",
       "927    5\n",
       "928    5\n",
       "929    5\n",
       "Name: Back Camera, Length: 930, dtype: int32"
      ]
     },
     "execution_count": 309,
     "metadata": {},
     "output_type": "execute_result"
    }
   ],
   "source": [
    "df['Back Camera'].astype('int32')"
   ]
  },
  {
   "cell_type": "code",
   "execution_count": 310,
   "id": "21981d7c",
   "metadata": {},
   "outputs": [],
   "source": [
    "pattern = r'([\\d+,]+)'\n",
    "df['Battery Capacity'] = df['Battery Capacity'].str.extract(pattern)\n",
    "df['Battery Capacity'] = df['Battery Capacity'].str.replace(',','')"
   ]
  },
  {
   "cell_type": "code",
   "execution_count": 311,
   "id": "564d6bd8",
   "metadata": {},
   "outputs": [],
   "source": [
    "df['Battery Capacity']=df['Battery Capacity'].astype('int64')"
   ]
  },
  {
   "cell_type": "code",
   "execution_count": 312,
   "id": "9aa5571e",
   "metadata": {},
   "outputs": [
    {
     "data": {
      "text/html": [
       "<div>\n",
       "<style scoped>\n",
       "    .dataframe tbody tr th:only-of-type {\n",
       "        vertical-align: middle;\n",
       "    }\n",
       "\n",
       "    .dataframe tbody tr th {\n",
       "        vertical-align: top;\n",
       "    }\n",
       "\n",
       "    .dataframe thead th {\n",
       "        text-align: right;\n",
       "    }\n",
       "</style>\n",
       "<table border=\"1\" class=\"dataframe\">\n",
       "  <thead>\n",
       "    <tr style=\"text-align: right;\">\n",
       "      <th></th>\n",
       "      <th>Company Name</th>\n",
       "      <th>Model Name</th>\n",
       "      <th>Mobile Weight</th>\n",
       "      <th>RAM</th>\n",
       "      <th>Front Camera</th>\n",
       "      <th>Back Camera</th>\n",
       "      <th>Processor</th>\n",
       "      <th>Battery Capacity</th>\n",
       "      <th>Screen Size</th>\n",
       "      <th>Launched Price (Pakistan)</th>\n",
       "      <th>Launched Price (India)</th>\n",
       "      <th>Launched Price (China)</th>\n",
       "      <th>Launched Price (USA)</th>\n",
       "      <th>Launched Price (Dubai)</th>\n",
       "      <th>Launched Year</th>\n",
       "    </tr>\n",
       "  </thead>\n",
       "  <tbody>\n",
       "    <tr>\n",
       "      <th>count</th>\n",
       "      <td>930</td>\n",
       "      <td>930</td>\n",
       "      <td>930.000000</td>\n",
       "      <td>930.000000</td>\n",
       "      <td>930.000000</td>\n",
       "      <td>930.000000</td>\n",
       "      <td>930</td>\n",
       "      <td>930.000000</td>\n",
       "      <td>930.000000</td>\n",
       "      <td>930</td>\n",
       "      <td>930</td>\n",
       "      <td>930</td>\n",
       "      <td>930</td>\n",
       "      <td>930</td>\n",
       "      <td>930.000000</td>\n",
       "    </tr>\n",
       "    <tr>\n",
       "      <th>unique</th>\n",
       "      <td>19</td>\n",
       "      <td>908</td>\n",
       "      <td>NaN</td>\n",
       "      <td>NaN</td>\n",
       "      <td>NaN</td>\n",
       "      <td>NaN</td>\n",
       "      <td>217</td>\n",
       "      <td>NaN</td>\n",
       "      <td>NaN</td>\n",
       "      <td>157</td>\n",
       "      <td>147</td>\n",
       "      <td>137</td>\n",
       "      <td>107</td>\n",
       "      <td>141</td>\n",
       "      <td>NaN</td>\n",
       "    </tr>\n",
       "    <tr>\n",
       "      <th>top</th>\n",
       "      <td>Oppo</td>\n",
       "      <td>Pad 128GB</td>\n",
       "      <td>NaN</td>\n",
       "      <td>NaN</td>\n",
       "      <td>NaN</td>\n",
       "      <td>NaN</td>\n",
       "      <td>Snapdragon 8 Gen 2</td>\n",
       "      <td>NaN</td>\n",
       "      <td>NaN</td>\n",
       "      <td>PKR 79,999</td>\n",
       "      <td>INR 29,999</td>\n",
       "      <td>CNY 2,499</td>\n",
       "      <td>USD 499</td>\n",
       "      <td>AED 1,499</td>\n",
       "      <td>NaN</td>\n",
       "    </tr>\n",
       "    <tr>\n",
       "      <th>freq</th>\n",
       "      <td>129</td>\n",
       "      <td>3</td>\n",
       "      <td>NaN</td>\n",
       "      <td>NaN</td>\n",
       "      <td>NaN</td>\n",
       "      <td>NaN</td>\n",
       "      <td>30</td>\n",
       "      <td>NaN</td>\n",
       "      <td>NaN</td>\n",
       "      <td>39</td>\n",
       "      <td>35</td>\n",
       "      <td>36</td>\n",
       "      <td>44</td>\n",
       "      <td>39</td>\n",
       "      <td>NaN</td>\n",
       "    </tr>\n",
       "    <tr>\n",
       "      <th>mean</th>\n",
       "      <td>NaN</td>\n",
       "      <td>NaN</td>\n",
       "      <td>228.267097</td>\n",
       "      <td>7.784946</td>\n",
       "      <td>3.281720</td>\n",
       "      <td>3.922581</td>\n",
       "      <td>NaN</td>\n",
       "      <td>5026.163441</td>\n",
       "      <td>7.083796</td>\n",
       "      <td>NaN</td>\n",
       "      <td>NaN</td>\n",
       "      <td>NaN</td>\n",
       "      <td>NaN</td>\n",
       "      <td>NaN</td>\n",
       "      <td>2022.193548</td>\n",
       "    </tr>\n",
       "    <tr>\n",
       "      <th>std</th>\n",
       "      <td>NaN</td>\n",
       "      <td>NaN</td>\n",
       "      <td>105.432503</td>\n",
       "      <td>3.179673</td>\n",
       "      <td>2.649246</td>\n",
       "      <td>2.048504</td>\n",
       "      <td>NaN</td>\n",
       "      <td>1355.548264</td>\n",
       "      <td>1.533690</td>\n",
       "      <td>NaN</td>\n",
       "      <td>NaN</td>\n",
       "      <td>NaN</td>\n",
       "      <td>NaN</td>\n",
       "      <td>NaN</td>\n",
       "      <td>1.862080</td>\n",
       "    </tr>\n",
       "    <tr>\n",
       "      <th>min</th>\n",
       "      <td>NaN</td>\n",
       "      <td>NaN</td>\n",
       "      <td>135.000000</td>\n",
       "      <td>1.000000</td>\n",
       "      <td>1.000000</td>\n",
       "      <td>1.000000</td>\n",
       "      <td>NaN</td>\n",
       "      <td>2000.000000</td>\n",
       "      <td>5.000000</td>\n",
       "      <td>NaN</td>\n",
       "      <td>NaN</td>\n",
       "      <td>NaN</td>\n",
       "      <td>NaN</td>\n",
       "      <td>NaN</td>\n",
       "      <td>2014.000000</td>\n",
       "    </tr>\n",
       "    <tr>\n",
       "      <th>25%</th>\n",
       "      <td>NaN</td>\n",
       "      <td>NaN</td>\n",
       "      <td>185.000000</td>\n",
       "      <td>6.000000</td>\n",
       "      <td>1.000000</td>\n",
       "      <td>1.000000</td>\n",
       "      <td>NaN</td>\n",
       "      <td>4402.500000</td>\n",
       "      <td>6.500000</td>\n",
       "      <td>NaN</td>\n",
       "      <td>NaN</td>\n",
       "      <td>NaN</td>\n",
       "      <td>NaN</td>\n",
       "      <td>NaN</td>\n",
       "      <td>2021.000000</td>\n",
       "    </tr>\n",
       "    <tr>\n",
       "      <th>50%</th>\n",
       "      <td>NaN</td>\n",
       "      <td>NaN</td>\n",
       "      <td>194.000000</td>\n",
       "      <td>8.000000</td>\n",
       "      <td>3.000000</td>\n",
       "      <td>5.000000</td>\n",
       "      <td>NaN</td>\n",
       "      <td>5000.000000</td>\n",
       "      <td>6.670000</td>\n",
       "      <td>NaN</td>\n",
       "      <td>NaN</td>\n",
       "      <td>NaN</td>\n",
       "      <td>NaN</td>\n",
       "      <td>NaN</td>\n",
       "      <td>2023.000000</td>\n",
       "    </tr>\n",
       "    <tr>\n",
       "      <th>75%</th>\n",
       "      <td>NaN</td>\n",
       "      <td>NaN</td>\n",
       "      <td>208.000000</td>\n",
       "      <td>8.000000</td>\n",
       "      <td>5.000000</td>\n",
       "      <td>5.000000</td>\n",
       "      <td>NaN</td>\n",
       "      <td>5091.250000</td>\n",
       "      <td>6.780000</td>\n",
       "      <td>NaN</td>\n",
       "      <td>NaN</td>\n",
       "      <td>NaN</td>\n",
       "      <td>NaN</td>\n",
       "      <td>NaN</td>\n",
       "      <td>2024.000000</td>\n",
       "    </tr>\n",
       "    <tr>\n",
       "      <th>max</th>\n",
       "      <td>NaN</td>\n",
       "      <td>NaN</td>\n",
       "      <td>732.000000</td>\n",
       "      <td>16.000000</td>\n",
       "      <td>8.000000</td>\n",
       "      <td>8.000000</td>\n",
       "      <td>NaN</td>\n",
       "      <td>11200.000000</td>\n",
       "      <td>14.600000</td>\n",
       "      <td>NaN</td>\n",
       "      <td>NaN</td>\n",
       "      <td>NaN</td>\n",
       "      <td>NaN</td>\n",
       "      <td>NaN</td>\n",
       "      <td>2025.000000</td>\n",
       "    </tr>\n",
       "  </tbody>\n",
       "</table>\n",
       "</div>"
      ],
      "text/plain": [
       "       Company Name Model Name  Mobile Weight         RAM  Front Camera  \\\n",
       "count           930        930     930.000000  930.000000    930.000000   \n",
       "unique           19        908            NaN         NaN           NaN   \n",
       "top            Oppo  Pad 128GB            NaN         NaN           NaN   \n",
       "freq            129          3            NaN         NaN           NaN   \n",
       "mean            NaN        NaN     228.267097    7.784946      3.281720   \n",
       "std             NaN        NaN     105.432503    3.179673      2.649246   \n",
       "min             NaN        NaN     135.000000    1.000000      1.000000   \n",
       "25%             NaN        NaN     185.000000    6.000000      1.000000   \n",
       "50%             NaN        NaN     194.000000    8.000000      3.000000   \n",
       "75%             NaN        NaN     208.000000    8.000000      5.000000   \n",
       "max             NaN        NaN     732.000000   16.000000      8.000000   \n",
       "\n",
       "        Back Camera           Processor  Battery Capacity  Screen Size  \\\n",
       "count    930.000000                 930        930.000000   930.000000   \n",
       "unique          NaN                 217               NaN          NaN   \n",
       "top             NaN  Snapdragon 8 Gen 2               NaN          NaN   \n",
       "freq            NaN                  30               NaN          NaN   \n",
       "mean       3.922581                 NaN       5026.163441     7.083796   \n",
       "std        2.048504                 NaN       1355.548264     1.533690   \n",
       "min        1.000000                 NaN       2000.000000     5.000000   \n",
       "25%        1.000000                 NaN       4402.500000     6.500000   \n",
       "50%        5.000000                 NaN       5000.000000     6.670000   \n",
       "75%        5.000000                 NaN       5091.250000     6.780000   \n",
       "max        8.000000                 NaN      11200.000000    14.600000   \n",
       "\n",
       "       Launched Price (Pakistan) Launched Price (India)  \\\n",
       "count                        930                    930   \n",
       "unique                       157                    147   \n",
       "top                   PKR 79,999             INR 29,999   \n",
       "freq                          39                     35   \n",
       "mean                         NaN                    NaN   \n",
       "std                          NaN                    NaN   \n",
       "min                          NaN                    NaN   \n",
       "25%                          NaN                    NaN   \n",
       "50%                          NaN                    NaN   \n",
       "75%                          NaN                    NaN   \n",
       "max                          NaN                    NaN   \n",
       "\n",
       "       Launched Price (China) Launched Price (USA) Launched Price (Dubai)  \\\n",
       "count                     930                  930                    930   \n",
       "unique                    137                  107                    141   \n",
       "top                 CNY 2,499              USD 499              AED 1,499   \n",
       "freq                       36                   44                     39   \n",
       "mean                      NaN                  NaN                    NaN   \n",
       "std                       NaN                  NaN                    NaN   \n",
       "min                       NaN                  NaN                    NaN   \n",
       "25%                       NaN                  NaN                    NaN   \n",
       "50%                       NaN                  NaN                    NaN   \n",
       "75%                       NaN                  NaN                    NaN   \n",
       "max                       NaN                  NaN                    NaN   \n",
       "\n",
       "        Launched Year  \n",
       "count      930.000000  \n",
       "unique            NaN  \n",
       "top               NaN  \n",
       "freq              NaN  \n",
       "mean      2022.193548  \n",
       "std          1.862080  \n",
       "min       2014.000000  \n",
       "25%       2021.000000  \n",
       "50%       2023.000000  \n",
       "75%       2024.000000  \n",
       "max       2025.000000  "
      ]
     },
     "execution_count": 312,
     "metadata": {},
     "output_type": "execute_result"
    }
   ],
   "source": [
    "df.describe(include='all')"
   ]
  },
  {
   "cell_type": "code",
   "execution_count": 313,
   "id": "0479899a",
   "metadata": {},
   "outputs": [
    {
     "data": {
      "text/plain": [
       "0       79999\n",
       "1       84999\n",
       "2       89999\n",
       "3       89999\n",
       "4       94999\n",
       "        ...  \n",
       "925     23999\n",
       "926     25999\n",
       "927    164999\n",
       "928    176999\n",
       "929    200999\n",
       "Name: Launched Price, Length: 930, dtype: object"
      ]
     },
     "execution_count": 313,
     "metadata": {},
     "output_type": "execute_result"
    }
   ],
   "source": [
    "df['Launched Price'] =df['Launched Price (India)'].str.extract(pattern)\n",
    "df['Launched Price'] =df['Launched Price'].str.replace(',','')\n",
    "df['Launched Price'] =df['Launched Price'].str.replace('INR','')\n",
    "df['Launched Price']"
   ]
  },
  {
   "cell_type": "code",
   "execution_count": 314,
   "id": "32b6c0af",
   "metadata": {},
   "outputs": [],
   "source": [
    "df['Launched Price']=df['Launched Price'].astype('Int64')\n"
   ]
  },
  {
   "cell_type": "code",
   "execution_count": 315,
   "id": "f4105c5b",
   "metadata": {},
   "outputs": [],
   "source": [
    "# dropping all the columns for price except newly created\n",
    "cols = df.columns\n",
    "\n",
    "cols = [c for c in cols if '(' in str(c)] # extracting column with country name price "
   ]
  },
  {
   "cell_type": "code",
   "execution_count": 316,
   "id": "52eafc26",
   "metadata": {},
   "outputs": [
    {
     "data": {
      "text/plain": [
       "['Launched Price (Pakistan)',\n",
       " 'Launched Price (India)',\n",
       " 'Launched Price (China)',\n",
       " 'Launched Price (USA)',\n",
       " 'Launched Price (Dubai)']"
      ]
     },
     "execution_count": 316,
     "metadata": {},
     "output_type": "execute_result"
    }
   ],
   "source": [
    "cols"
   ]
  },
  {
   "cell_type": "code",
   "execution_count": 317,
   "id": "e24feca9",
   "metadata": {},
   "outputs": [],
   "source": [
    "df =df.drop(columns=cols, axis = 1)\n"
   ]
  },
  {
   "cell_type": "code",
   "execution_count": 319,
   "id": "0d0a8b1c",
   "metadata": {},
   "outputs": [
    {
     "data": {
      "text/plain": [
       "array(['A17 Bionic', 'A17 Pro', 'A16 Bionic', 'A15 Bionic', 'A14 Bionic',\n",
       "       'A13 Bionic', 'A11 Bionic', 'A12 Bionic', 'A12Z Bionic',\n",
       "       'Exynos 2400', 'Snapdragon 8 Gen 2', 'Exynos 2200',\n",
       "       'Snapdragon 8 Gen 1', 'Exynos 1380', 'MediaTek Dimensity 1080',\n",
       "       'MediaTek Helio G99', 'Exynos 850', 'Exynos 1280',\n",
       "       'MediaTek Helio P35', 'Exynos 990', 'Exynos 9825',\n",
       "       'Snapdragon 450', 'Exynos 7870', 'Snapdragon 425', 'Exynos 7570',\n",
       "       'Snapdragon 653', 'Snapdragon 625', 'Snapdragon 617',\n",
       "       'Snapdragon 888', 'Snapdragon 695', 'Unisoc T618',\n",
       "       'MediaTek Helio P22T', 'Snapdragon 778G', 'Exynos 9810',\n",
       "       'Spreadtrum SC8830', 'Qualcomm MSM8916', 'Snapdragon 8 Gen 3',\n",
       "       'MediaTek Dimensity 9000', 'Snapdragon 782G',\n",
       "       'MediaTek Dimensity 6020', 'Snapdragon 8+ Gen 1',\n",
       "       'MediaTek Dimensity 1300', 'MediaTek Dimensity 1200-AI',\n",
       "       'Snapdragon 480', 'Qualcomm Snapdragon 460', 'Snapdragon 865',\n",
       "       'Snapdragon 870', 'MediaTek Dimensity 900',\n",
       "       'MediaTek Dimensity 1200', 'Snapdragon 765G', 'Snapdragon 750G',\n",
       "       'Qualcomm Snapdragon 690', 'Snapdragon 855', 'Snapdragon 845',\n",
       "       'Snapdragon 835', 'MediaTek Dimensity 8100', 'Dimensity 9400',\n",
       "       'Dimensity 1200', 'Dimensity 900', 'Dimensity 1100',\n",
       "       'Snapdragon 710', 'Snapdragon 626', 'MediaTek Helio P22',\n",
       "       'Snapdragon 615', 'Snapdragon 439', 'Snapdragon 652',\n",
       "       'MediaTek MT6592', 'Snapdragon 430', 'Qualcomm Snapdragon 712',\n",
       "       'Qualcomm Snapdragon 675', 'MediaTek Helio P65',\n",
       "       'Qualcomm Snapdragon 439', 'MediaTek Helio P70',\n",
       "       'Qualcomm Snapdragon 710', 'Qualcomm Snapdragon 660',\n",
       "       'MediaTek Helio G96', 'MediaTek Helio G80',\n",
       "       'Qualcomm Snapdragon 870', 'Qualcomm Snapdragon 765G',\n",
       "       'MediaTek Dimensity 700', 'Qualcomm Snapdragon 695',\n",
       "       'Qualcomm Snapdragon 855', 'MediaTek Dimensity 8200',\n",
       "       'MediaTek Dimensity 9200', 'MediaTek Dimensity 920',\n",
       "       'MediaTek Helio G100', 'MediaTek Dimensity 8350', 'Snapdragon 685',\n",
       "       'MediaTek Dimensity 7050', 'Dimensity 7300', 'Dimensity 6300',\n",
       "       'Snapdragon 6s 4G Gen 1', 'Snapdragon 680 4G',\n",
       "       'Snapdragon 7 Gen 3', 'Dimensity 7050', 'Dimensity 8350',\n",
       "       'Dimensity 9300', 'Dimensity 9200', 'Dimensity 9000+',\n",
       "       'Dimensity 8100', 'Dimensity 1300', 'Dimensity 1000+',\n",
       "       'Dimensity 1000L', 'MediaTek Dimensity 810',\n",
       "       'Qualcomm Snapdragon 480', 'MediaTek Dimensity 720',\n",
       "       'Qualcomm Snapdragon 6s Gen 1', 'MediaTek Dimensity 8000-Max',\n",
       "       'Qualcomm Snapdragon 768G', 'Qualcomm Snapdragon 782G',\n",
       "       'Qualcomm Snapdragon 8 Elite', 'Qualcomm Snapdragon 8s Gen 3',\n",
       "       'Qualcomm Snapdragon 7 Plus Gen 3', 'Qualcomm Snapdragon 7s Gen 3',\n",
       "       'MediaTek Dimensity 7300 Energy', 'Qualcomm Snapdragon 7s Gen 2',\n",
       "       'MediaTek Dimensity 7200', 'MediaTek Dimensity 6100+',\n",
       "       'Qualcomm Snapdragon 7+ Gen 2', 'Qualcomm Snapdragon 7+ Gen 3',\n",
       "       'Qualcomm Snapdragon 7s Gen 1', 'MediaTek Helio G88',\n",
       "       'MediaTek Helio G85', 'Unisoc T612', 'Qualcomm Snapdragon 680',\n",
       "       'Qualcomm Snapdragon 8 Gen 2', 'Unisoc T616', 'Snapdragon 8 Elite',\n",
       "       'Dimensity 9300+', 'Dimensity 8300-Ultra', 'Snapdragon 7s Gen 3',\n",
       "       'MediaTek Dimensity 7300-Ultra', 'Qualcomm Snapdragon 732G',\n",
       "       'MediaTek Dimensity 7025-Ultra', 'Unisoc T700', 'Snapdragon 662',\n",
       "       'Unisoc SC9863A', 'Snapdragon 460', 'Snapdragon 632', 'Helio P22',\n",
       "       'Snapdragon 7 Gen 1', 'Exynos 9609', 'MediaTek Helio G25',\n",
       "       'Snapdragon 6 Gen 3', 'MediaTek Dimensity 7300',\n",
       "       'MediaTek Dimensity 7025', 'Unisoc T760', 'Snapdragon 6s Gen 3',\n",
       "       'Snapdragon 7s Gen 2', 'Unisoc T606', 'Snapdragon 6 Gen 1',\n",
       "       'Snapdragon 888+ 5G', 'Snapdragon 695 5G', 'Snapdragon 480+ 5G',\n",
       "       'MediaTek Helio G37', 'Snapdragon 888 4G', 'Kirin 990E 5G',\n",
       "       'Kirin 9000 5G', 'Snapdragon 778G 4G', 'Snapdragon 8+ Gen 1 4G',\n",
       "       'Kirin 9000S', 'Kirin 9010', 'Snapdragon 480+', 'MediaTek G35',\n",
       "       'Snapdragon 670', 'Snapdragon 730G', 'Google Tensor',\n",
       "       'Google Tensor G2', 'Google Tensor G3', 'Google Tensor G4',\n",
       "       'MediaTek Helio A22', 'MediaTek G99', 'Unisoc SC9832E',\n",
       "       'MediaTek Dimensity 9200+', 'MediaTek Dimensity 8050',\n",
       "       'Qualcomm Snapdragon 778G', 'MediaTek Dimensity 8020',\n",
       "       'Unisoc T610', 'MediaTek Helio G70', 'MediaTek Helio A25',\n",
       "       'MediaTek Helio G35', 'MediaTek Helio A20', 'MediaTek Helio G90T',\n",
       "       'Kirin 710F', 'Kirin 985 5G', 'Kirin 990 5G', 'Kirin 820 5G',\n",
       "       'MediaTek Dimensity 800', 'Kirin 710A', 'MediaTek Dimensity 1000+',\n",
       "       'MediaTek Dimensity 800U', 'Qualcomm Snapdragon 888',\n",
       "       'Qualcomm Snapdragon 888+', 'Qualcomm Snapdragon 778G+',\n",
       "       'MediaTek MT6762G Helio G25', 'Qualcomm Snapdragon 8 Gen 1',\n",
       "       'MediaTek Dimensity 8000', 'Qualcomm Snapdragon 8+ Gen 1',\n",
       "       'Qualcomm Snapdragon 6 Gen 1', 'MediaTek Helio G36',\n",
       "       'Qualcomm Snapdragon 8 Gen 3', 'Qualcomm Snapdragon 7 Gen 1',\n",
       "       'Qualcomm Snapdragon 662', 'MediaTek MT8768T',\n",
       "       'MediaTek Dimensity 1300T', 'MediaTek MT8786',\n",
       "       'Qualcomm Snapdragon 685', 'Snapdragon 720G', 'Snapdragon 732G',\n",
       "       'Snapdragon 860', 'MediaTek Dimensity 1100', 'MediaTek Helio G95',\n",
       "       'Snapdragon 7+ Gen 2', 'Snapdragon 4 Gen 1',\n",
       "       'MediaTek Dimensity 8300', 'Snapdragon 8+ Gen 2',\n",
       "       'MediaTek Dimensity 8400'], dtype=object)"
      ]
     },
     "execution_count": 319,
     "metadata": {},
     "output_type": "execute_result"
    }
   ],
   "source": [
    "df['Processor'].unique()"
   ]
  },
  {
   "cell_type": "code",
   "execution_count": 318,
   "id": "b6636429",
   "metadata": {},
   "outputs": [
    {
     "name": "stdout",
     "output_type": "stream",
     "text": [
      "<class 'pandas.core.frame.DataFrame'>\n",
      "RangeIndex: 930 entries, 0 to 929\n",
      "Data columns (total 11 columns):\n",
      " #   Column            Non-Null Count  Dtype  \n",
      "---  ------            --------------  -----  \n",
      " 0   Company Name      930 non-null    object \n",
      " 1   Model Name        930 non-null    object \n",
      " 2   Mobile Weight     930 non-null    float64\n",
      " 3   RAM               930 non-null    float64\n",
      " 4   Front Camera      930 non-null    int32  \n",
      " 5   Back Camera       930 non-null    int32  \n",
      " 6   Processor         930 non-null    object \n",
      " 7   Battery Capacity  930 non-null    int64  \n",
      " 8   Screen Size       930 non-null    float64\n",
      " 9   Launched Year     930 non-null    int64  \n",
      " 10  Launched Price    930 non-null    Int64  \n",
      "dtypes: Int64(1), float64(3), int32(2), int64(2), object(3)\n",
      "memory usage: 73.7+ KB\n"
     ]
    }
   ],
   "source": [
    "df.info()"
   ]
  },
  {
   "cell_type": "code",
   "execution_count": null,
   "id": "6af9c83e",
   "metadata": {},
   "outputs": [
    {
     "name": "stdout",
     "output_type": "stream",
     "text": [
      "           0                                                  1\n",
      "0      Apple     Company Name              Model Name  Mobil...\n",
      "1     Google      Company Name              Model Name  Mobi...\n",
      "2      Honor      Company Name   Model Name  Mobile Weight  ...\n",
      "3     Huawei      Company Name              Model Name  Mobi...\n",
      "4    Infinix      Company Name              Model Name  Mobi...\n",
      "5     Lenovo      Company Name        Model Name  Mobile Wei...\n",
      "6   Motorola      Company Name            Model Name  Mobile...\n",
      "7      Nokia      Company Name    Model Name  Mobile Weight ...\n",
      "8    OnePlus      Company Name                              ...\n",
      "9       Oppo      Company Name          Model Name  Mobile W...\n",
      "10      POCO      Company Name       Model Name  Mobile Weig...\n",
      "11      Poco      Company Name    Model Name  Mobile Weight ...\n",
      "12    Realme      Company Name              Model Name  Mobi...\n",
      "13   Samsung      Company Name              Model Name  Mobi...\n",
      "14      Sony      Company Name          Model Name  Mobile W...\n",
      "15     Tecno      Company Name              Model Name  Mobi...\n",
      "16      Vivo      Company Name           Model Name  Mobile ...\n",
      "17    Xiaomi      Company Name                   Model Name ...\n",
      "18      iQOO      Company Name       Model Name  Mobile Weig...\n"
     ]
    }
   ],
   "source": [
    "# checking duplicates\n",
    "grouped = df.groupby('Company Name')\n",
    "\n"
   ]
  },
  {
   "cell_type": "code",
   "execution_count": null,
   "id": "c005a473",
   "metadata": {},
   "outputs": [],
   "source": []
  }
 ],
 "metadata": {
  "kernelspec": {
   "display_name": "Python 3",
   "language": "python",
   "name": "python3"
  },
  "language_info": {
   "codemirror_mode": {
    "name": "ipython",
    "version": 3
   },
   "file_extension": ".py",
   "mimetype": "text/x-python",
   "name": "python",
   "nbconvert_exporter": "python",
   "pygments_lexer": "ipython3",
   "version": "3.13.2"
  }
 },
 "nbformat": 4,
 "nbformat_minor": 5
}
